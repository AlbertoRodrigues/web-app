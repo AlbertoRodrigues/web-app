{
 "cells": [
  {
   "cell_type": "code",
   "execution_count": 9,
   "id": "8192087e",
   "metadata": {},
   "outputs": [],
   "source": [
    "import pickle\n",
    "import pandas as pd\n",
    "from sklearn.linear_model import LinearRegression"
   ]
  },
  {
   "cell_type": "markdown",
   "id": "21d1e891",
   "metadata": {},
   "source": [
    "## Modelo com uma variável"
   ]
  },
  {
   "cell_type": "code",
   "execution_count": 10,
   "id": "32139861",
   "metadata": {},
   "outputs": [],
   "source": [
    "df = pd.read_csv('casas.csv')\n",
    "\n",
    "X = df[['tamanho']]\n",
    "y = df['preco']"
   ]
  },
  {
   "cell_type": "code",
   "execution_count": 11,
   "id": "8217fb12",
   "metadata": {},
   "outputs": [
    {
     "data": {
      "text/plain": [
       "LinearRegression()"
      ]
     },
     "execution_count": 11,
     "metadata": {},
     "output_type": "execute_result"
    }
   ],
   "source": [
    "modelo = LinearRegression()\n",
    "modelo.fit(X, y)"
   ]
  },
  {
   "cell_type": "code",
   "execution_count": 12,
   "id": "9d3e2076",
   "metadata": {},
   "outputs": [],
   "source": [
    "pickle.dump(modelo, open('modelo.pkl','wb'))"
   ]
  },
  {
   "cell_type": "markdown",
   "id": "e440817f",
   "metadata": {},
   "source": [
    "## Modelo com três variáveis"
   ]
  },
  {
   "cell_type": "code",
   "execution_count": 13,
   "id": "1ad44a3e",
   "metadata": {},
   "outputs": [],
   "source": [
    "df = pd.read_csv('casas.csv')\n",
    "\n",
    "X = df[['tamanho','ano', 'garagem']]\n",
    "y = df['preco']"
   ]
  },
  {
   "cell_type": "code",
   "execution_count": 14,
   "id": "dddf7bc3",
   "metadata": {},
   "outputs": [
    {
     "data": {
      "text/plain": [
       "LinearRegression()"
      ]
     },
     "execution_count": 14,
     "metadata": {},
     "output_type": "execute_result"
    }
   ],
   "source": [
    "modelo = LinearRegression()\n",
    "modelo.fit(X, y)"
   ]
  },
  {
   "cell_type": "code",
   "execution_count": 15,
   "id": "8740a3b1",
   "metadata": {},
   "outputs": [],
   "source": [
    "pickle.dump(modelo, open('modelo2.pkl','wb'))"
   ]
  }
 ],
 "metadata": {
  "kernelspec": {
   "display_name": "Python 3 (ipykernel)",
   "language": "python",
   "name": "python3"
  },
  "language_info": {
   "codemirror_mode": {
    "name": "ipython",
    "version": 3
   },
   "file_extension": ".py",
   "mimetype": "text/x-python",
   "name": "python",
   "nbconvert_exporter": "python",
   "pygments_lexer": "ipython3",
   "version": "3.9.7"
  }
 },
 "nbformat": 4,
 "nbformat_minor": 5
}
